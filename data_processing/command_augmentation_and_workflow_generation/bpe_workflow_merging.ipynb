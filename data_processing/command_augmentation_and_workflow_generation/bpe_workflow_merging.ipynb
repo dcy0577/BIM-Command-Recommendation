{
 "cells": [
  {
   "cell_type": "markdown",
   "id": "749f64e6-6242-47d5-bd5f-aacbcb307f55",
   "metadata": {},
   "source": [
    "## Necessary workflows"
   ]
  },
  {
   "cell_type": "code",
   "execution_count": 2,
   "id": "ca4ce4b0-0dd7-4754-9ad6-10870f810212",
   "metadata": {},
   "outputs": [],
   "source": [
    "workflows = [\n",
    "                   \"Tool: Rectangle,End Event: Change Attributes\",                   \n",
    "                    \"Tool: Line,End Event: Delete,Tool: Line\",\n",
    "                   \"Tool: Line,Tool: Move by Points\",\n",
    "                   \"Tool: Rectangle,Menu: Add Surface - \",\n",
    "                   \"Tool: Rectangle,Menu: Extrude and Edit - \",\n",
    "                   \"Tool: 2D Polygon,End Event: Change Attributes\",\n",
    "                   \"Menu: Save As - ,Menu: Export PDF - \",\n",
    "                   \"Menu: Duplicate - ,End Event: Drag,End Event: Modify Text\",\n",
    "                   \"Menu: Copy - ,End Event: Set Active Layer,Menu: Paste - \",\n",
    "                    \"Tool: Mirror,End Event: Drag,End Event: Resize\",\n",
    "                  ]"
   ]
  },
  {
   "cell_type": "markdown",
   "id": "3e5a7086-b54b-48d7-ab31-8a51e0af9d07",
   "metadata": {},
   "source": [
    "## Processing to get this workflows"
   ]
  },
  {
   "cell_type": "code",
   "execution_count": 3,
   "id": "ae711b4c-ae39-404b-93a4-6e21344172b7",
   "metadata": {},
   "outputs": [],
   "source": [
    "from multiprocessing import Pool, cpu_count\n",
    "from collections import defaultdict\n",
    "from tqdm import tqdm\n",
    "import pandas as pd\n",
    "import logging\n",
    "# Configure logging"
   ]
  },
  {
   "cell_type": "code",
   "execution_count": null,
   "id": "20c86a78-58f4-422d-817d-4d28b311bad2",
   "metadata": {},
   "outputs": [],
   "source": [
    "merged_processed_unitied_logs = pd.read_parquet('data/merged_logs.parquet')"
   ]
  },
  {
   "cell_type": "code",
   "execution_count": 6,
   "id": "25890410-61b6-47db-adba-32ff10f96bf8",
   "metadata": {},
   "outputs": [
    {
     "data": {
      "text/html": [
       "<div>\n",
       "<style scoped>\n",
       "    .dataframe tbody tr th:only-of-type {\n",
       "        vertical-align: middle;\n",
       "    }\n",
       "\n",
       "    .dataframe tbody tr th {\n",
       "        vertical-align: top;\n",
       "    }\n",
       "\n",
       "    .dataframe thead th {\n",
       "        text-align: right;\n",
       "    }\n",
       "</style>\n",
       "<table border=\"1\" class=\"dataframe\">\n",
       "  <thead>\n",
       "    <tr style=\"text-align: right;\">\n",
       "      <th></th>\n",
       "      <th>message_content</th>\n",
       "      <th>count</th>\n",
       "    </tr>\n",
       "  </thead>\n",
       "  <tbody>\n",
       "    <tr>\n",
       "      <th>0</th>\n",
       "      <td>End Event: Drag</td>\n",
       "      <td>48492994</td>\n",
       "    </tr>\n",
       "    <tr>\n",
       "      <th>1</th>\n",
       "      <td>End Event: Delete</td>\n",
       "      <td>32555193</td>\n",
       "    </tr>\n",
       "    <tr>\n",
       "      <th>2</th>\n",
       "      <td>End Event: Resize</td>\n",
       "      <td>23870789</td>\n",
       "    </tr>\n",
       "    <tr>\n",
       "      <th>3</th>\n",
       "      <td>End Event: Shape Pane Edit</td>\n",
       "      <td>20951431</td>\n",
       "    </tr>\n",
       "    <tr>\n",
       "      <th>4</th>\n",
       "      <td>End Event: Set Active Layer</td>\n",
       "      <td>19596011</td>\n",
       "    </tr>\n",
       "    <tr>\n",
       "      <th>...</th>\n",
       "      <td>...</td>\n",
       "      <td>...</td>\n",
       "    </tr>\n",
       "    <tr>\n",
       "      <th>4924</th>\n",
       "      <td>Tool: St Frame_elevation</td>\n",
       "      <td>10</td>\n",
       "    </tr>\n",
       "    <tr>\n",
       "      <th>4925</th>\n",
       "      <td>End Event: Define Center Line Marker</td>\n",
       "      <td>10</td>\n",
       "    </tr>\n",
       "    <tr>\n",
       "      <th>4926</th>\n",
       "      <td>End Event: Generate columns and intercolumns</td>\n",
       "      <td>10</td>\n",
       "    </tr>\n",
       "    <tr>\n",
       "      <th>4927</th>\n",
       "      <td>Tool: DBTools</td>\n",
       "      <td>10</td>\n",
       "    </tr>\n",
       "    <tr>\n",
       "      <th>4928</th>\n",
       "      <td>Menu: Delete cutting area -</td>\n",
       "      <td>10</td>\n",
       "    </tr>\n",
       "  </tbody>\n",
       "</table>\n",
       "<p>4929 rows × 2 columns</p>\n",
       "</div>"
      ],
      "text/plain": [
       "                                   message_content     count\n",
       "0                                  End Event: Drag  48492994\n",
       "1                                End Event: Delete  32555193\n",
       "2                                End Event: Resize  23870789\n",
       "3                       End Event: Shape Pane Edit  20951431\n",
       "4                      End Event: Set Active Layer  19596011\n",
       "...                                            ...       ...\n",
       "4924                      Tool: St Frame_elevation        10\n",
       "4925          End Event: Define Center Line Marker        10\n",
       "4926  End Event: Generate columns and intercolumns        10\n",
       "4927                                 Tool: DBTools        10\n",
       "4928                   Menu: Delete cutting area -        10\n",
       "\n",
       "[4929 rows x 2 columns]"
      ]
     },
     "execution_count": 6,
     "metadata": {},
     "output_type": "execute_result"
    }
   ],
   "source": [
    "counts = merged_processed_unitied_logs['message_content'].value_counts().reset_index()\n",
    "counts.columns = ['message_content', 'count']\n",
    "counts"
   ]
  },
  {
   "cell_type": "code",
   "execution_count": null,
   "id": "3253300f-6e18-40e8-9dcc-e712f8b82f6c",
   "metadata": {
    "collapsed": true,
    "jupyter": {
     "outputs_hidden": true
    },
    "scrolled": true
   },
   "outputs": [],
   "source": [
    "grouped_ids = {session: group['message_content'].tolist() for session, group in merged_processed_unitied_logs.groupby('session_anonymized')}"
   ]
  },
  {
   "cell_type": "markdown",
   "id": "605934f8-ceb2-4e54-9f54-df5fb024761b",
   "metadata": {},
   "source": [
    "## Merging workflows back to merged logs"
   ]
  },
  {
   "cell_type": "code",
   "execution_count": 8,
   "id": "5412e6c2-9a28-4069-9014-8e34d235cca0",
   "metadata": {},
   "outputs": [],
   "source": [
    "def processing_merge (grouped_ids, messages, combined_messages):\n",
    "    output_messages = []\n",
    "    processed_ids = {}  # Store processed groups\n",
    "    for group_key in tqdm(grouped_ids, desc=\"Processing merging\"):\n",
    "        group_messages = grouped_ids[group_key]  # Messages for the current group\n",
    "        merged_messages = []  # Store merged messages \n",
    "        i = 0  # Index tracker\n",
    "        while i < len(group_messages):  # Iterate through messages\n",
    "            # Check for a matching sequence\n",
    "            if i <= len(group_messages) - len(messages) and group_messages[i:i + len(messages)] == messages:\n",
    "                merged_messages.append(combined_messages)\n",
    "                i += len(messages)  # Skip the matched sequence\n",
    "            else:\n",
    "                merged_messages.append(group_messages[i])  # Keep the current message\n",
    "                i += 1  # Move to the next message\n",
    "        processed_ids[group_key] = merged_messages  # Update results for the group\n",
    "    return processed_ids\n"
   ]
  },
  {
   "cell_type": "code",
   "execution_count": 9,
   "id": "56705aec-7616-4fcc-8242-61d96e19436e",
   "metadata": {},
   "outputs": [],
   "source": [
    "processing_grouped_ids = grouped_ids.copy()"
   ]
  },
  {
   "cell_type": "code",
   "execution_count": 10,
   "id": "971fb1b6-0c1a-4c41-bcdc-5f38ae41d793",
   "metadata": {},
   "outputs": [
    {
     "name": "stdout",
     "output_type": "stream",
     "text": [
      "['Tool: Rectangle', 'End Event: Change Attributes']\n"
     ]
    },
    {
     "name": "stderr",
     "output_type": "stream",
     "text": [
      "Processing merging: 100%|██████████| 1458538/1458538 [03:04<00:00, 7919.00it/s]\n"
     ]
    },
    {
     "name": "stdout",
     "output_type": "stream",
     "text": [
      "['Tool: Line', 'End Event: Delete', 'Tool: Line']\n"
     ]
    },
    {
     "name": "stderr",
     "output_type": "stream",
     "text": [
      "Processing merging: 100%|██████████| 1458538/1458538 [03:04<00:00, 7901.12it/s]\n"
     ]
    },
    {
     "name": "stdout",
     "output_type": "stream",
     "text": [
      "['Tool: Line', 'Tool: Move by Points']\n"
     ]
    },
    {
     "name": "stderr",
     "output_type": "stream",
     "text": [
      "Processing merging: 100%|██████████| 1458538/1458538 [03:02<00:00, 7991.20it/s]\n"
     ]
    },
    {
     "name": "stdout",
     "output_type": "stream",
     "text": [
      "['Tool: Rectangle', 'Menu: Add Surface - ']\n"
     ]
    },
    {
     "name": "stderr",
     "output_type": "stream",
     "text": [
      "Processing merging: 100%|██████████| 1458538/1458538 [03:07<00:00, 7781.00it/s]\n"
     ]
    },
    {
     "name": "stdout",
     "output_type": "stream",
     "text": [
      "['Tool: Rectangle', 'Menu: Extrude and Edit - ']\n"
     ]
    },
    {
     "name": "stderr",
     "output_type": "stream",
     "text": [
      "Processing merging: 100%|██████████| 1458538/1458538 [03:07<00:00, 7781.62it/s]\n"
     ]
    },
    {
     "name": "stdout",
     "output_type": "stream",
     "text": [
      "['Tool: 2D Polygon', 'End Event: Change Attributes']\n"
     ]
    },
    {
     "name": "stderr",
     "output_type": "stream",
     "text": [
      "Processing merging: 100%|██████████| 1458538/1458538 [03:09<00:00, 7679.40it/s]\n"
     ]
    },
    {
     "name": "stdout",
     "output_type": "stream",
     "text": [
      "['Menu: Save As - ', 'Menu: Export PDF - ']\n"
     ]
    },
    {
     "name": "stderr",
     "output_type": "stream",
     "text": [
      "Processing merging: 100%|██████████| 1458538/1458538 [03:12<00:00, 7562.03it/s]\n"
     ]
    },
    {
     "name": "stdout",
     "output_type": "stream",
     "text": [
      "['Menu: Duplicate - ', 'End Event: Drag', 'End Event: Modify Text']\n"
     ]
    },
    {
     "name": "stderr",
     "output_type": "stream",
     "text": [
      "Processing merging: 100%|██████████| 1458538/1458538 [03:08<00:00, 7747.57it/s]\n"
     ]
    },
    {
     "name": "stdout",
     "output_type": "stream",
     "text": [
      "['Menu: Copy - ', 'End Event: Set Active Layer', 'Menu: Paste - ']\n"
     ]
    },
    {
     "name": "stderr",
     "output_type": "stream",
     "text": [
      "Processing merging: 100%|██████████| 1458538/1458538 [03:12<00:00, 7588.33it/s]\n"
     ]
    },
    {
     "name": "stdout",
     "output_type": "stream",
     "text": [
      "['Tool: Mirror', 'End Event: Drag', 'End Event: Resize']\n"
     ]
    },
    {
     "name": "stderr",
     "output_type": "stream",
     "text": [
      "Processing merging: 100%|██████████| 1458538/1458538 [03:07<00:00, 7765.16it/s]\n"
     ]
    }
   ],
   "source": [
    "for item in workflows:\n",
    "    test_messages = item.split(',')\n",
    "    test_messages = [msg for msg in test_messages]\n",
    "    print(test_messages)\n",
    "    processing_grouped_ids = processing_merge(processing_grouped_ids , test_messages, item)"
   ]
  },
  {
   "cell_type": "code",
   "execution_count": 11,
   "id": "d65b9c50-0518-4b81-956c-3c8be7e885bc",
   "metadata": {},
   "outputs": [],
   "source": [
    "# Flatten the dictionary into a list of key-value pairs\n",
    "data_flattened = [(key, value) for key, values in processing_grouped_ids.items() for value in values]\n",
    "# Create a DataFrame\n",
    "df_processed = pd.DataFrame(data_flattened, columns=['session_anonymized', 'message_content'])"
   ]
  },
  {
   "cell_type": "markdown",
   "id": "f76c461e-cdf2-494e-9d64-84ddfe0f2092",
   "metadata": {},
   "source": [
    "## Merging with other schema"
   ]
  },
  {
   "cell_type": "code",
   "execution_count": 13,
   "id": "daad3c0d-e7b9-438c-a3bc-ef31898fb67a",
   "metadata": {},
   "outputs": [
    {
     "data": {
      "text/plain": [
       "['Menu: Add Surface - ',\n",
       " 'End Event: Drag',\n",
       " 'Menu: Duplicate - ',\n",
       " 'End Event: Modify Text',\n",
       " 'End Event: Set Active Layer',\n",
       " 'Menu: Save As - ',\n",
       " 'End Event: Delete',\n",
       " 'Menu: Copy - ',\n",
       " 'End Event: Resize',\n",
       " 'End Event: Change Attributes',\n",
       " 'Tool: Rectangle',\n",
       " 'Tool: Mirror',\n",
       " 'Tool: 2D Polygon',\n",
       " 'Menu: Export PDF - ',\n",
       " 'Menu: Paste - ',\n",
       " 'Tool: Line',\n",
       " 'Tool: Move by Points',\n",
       " 'Menu: Extrude and Edit - ']"
      ]
     },
     "execution_count": 13,
     "metadata": {},
     "output_type": "execute_result"
    }
   ],
   "source": [
    "items = []\n",
    "\n",
    "# Iterate through each 'message_eng' entry, split by ', ', and extend the items list\n",
    "for message in workflows:\n",
    "    if isinstance(message, str):  # Ensure the message is a string\n",
    "        items.extend(message.split(','))\n",
    "unique_items = list(set(items))\n",
    "unique_items"
   ]
  },
  {
   "cell_type": "code",
   "execution_count": null,
   "id": "4a1f7f5d-7807-48ad-988c-b0c08a19cb2c",
   "metadata": {},
   "outputs": [],
   "source": [
    "import pandas as pd\n",
    "from multiprocessing import Pool, cpu_count\n",
    "from tqdm import tqdm\n",
    "import os\n",
    "import sys\n",
    "\n",
    "def init_worker():\n",
    "    \"\"\"Suppress stdout and stderr in worker processes.\"\"\"\n",
    "    sys.stdout = open(os.devnull, 'w')\n",
    "    sys.stderr = open(os.devnull, 'w')\n",
    "\n",
    "def process_rows(df_original, df_merged):\n",
    "    results = []  # List to store processed rows\n",
    "    index_original = 0\n",
    "    for index, row in df_merged.iterrows():\n",
    "\n",
    "        message_engs = row['message_content'].split(',')\n",
    "        \n",
    "        # Check if message_engs has more than one component and matches unique_items\n",
    "        if len(message_engs) > 1 and any(item in unique_items for item in message_engs):\n",
    "            i = len(message_engs)  # Number of components\n",
    "        else:\n",
    "            i = 1\n",
    "\n",
    "        # Calculate the new index for matching\n",
    "        new_index = index_original + i - 1\n",
    "\n",
    "        \n",
    "        # Ensure new_index is within bounds\n",
    "        if new_index >= len(df_original):\n",
    "            new_index = len(df_original) - 1\n",
    "\n",
    "        # Check for matching conditions\n",
    "        matched = (\n",
    "            df_original.at[new_index, 'session_anonymized'] == row['session_anonymized'] and\n",
    "            df_original.at[new_index, 'message_content'] == row['message_content']\n",
    "        ) if new_index in df_original.index else False\n",
    "\n",
    "        if matched:  # If match found\n",
    "            processed_row = {\n",
    "                'session_anonymized': df_original.at[new_index, 'session_anonymized'],\n",
    "                'ts': df_original.at[new_index, 'ts'],\n",
    "                'cat': df_original.at[new_index, 'cat'],\n",
    "                'message': df_original.at[new_index, 'message'],\n",
    "                'message_eng': df_original.at[new_index, 'message_eng'],  # Keep the merged DataFrame's message_eng\n",
    "                'message_content': row['message_content'], \n",
    "                'localization_id': df_original.at[new_index, 'localization_id'],  \n",
    "                'merge_count': df_original.at[new_index, 'merge_count'],  # Increment merge_count\n",
    "            }\n",
    "        else:  # If no match found\n",
    "            processed_row = {\n",
    "                'session_anonymized': row['session_anonymized'],\n",
    "                'ts': df_original.at[new_index, 'ts'] if new_index in df_original.index else None,\n",
    "                'cat': 'workflow',  # Default category\n",
    "                'message': \", \".join(df_original.at[i, 'message'] for i in range(index_original, new_index+1)),\n",
    "                'message_eng': \", \".join(df_original.at[i, 'message_eng'] for i in range(index_original, new_index+1)),\n",
    "                'message_content': \", \".join(df_original.at[i, 'message_content'] for i in range(index_original, new_index+1)),\n",
    "                'localization_id': \", \".join(df_original.at[i, 'localization_id'] for i in range(index_original, new_index+1)),\n",
    "                'merge_count': 1,  # Initialize merge_count\n",
    "            }\n",
    "\n",
    "        # Update index_original for the next iteration\n",
    "        index_original += i\n",
    "\n",
    "        # Append the processed row to results\n",
    "        results.append(processed_row)\n",
    "\n",
    "    # Convert results back into a DataFrame\n",
    "    processed_df = pd.DataFrame(results)\n",
    "    return processed_df\n",
    "\n",
    "def process_group(args):\n",
    "    \"\"\"Helper function to process a single group.\"\"\"\n",
    "    df_original, df_merged = args\n",
    "    # Reset the index for each group before processing\n",
    "    df_original = df_original.reset_index(drop=True)\n",
    "    df_merged = df_merged.reset_index(drop=True)\n",
    "    return process_rows(df_original, df_merged)\n",
    "\n",
    "def parallel_process(df_original, df_merged, num_cpus=20):\n",
    "    # Group the DataFrames by 'session_anonymized' and reset the index for each group\n",
    "    grouped_original = {\n",
    "        key: group.reset_index(drop=True)\n",
    "        for key, group in df_original.groupby('session_anonymized')\n",
    "    }\n",
    "    grouped_merged = {\n",
    "        key: group.reset_index(drop=True)\n",
    "        for key, group in df_merged.groupby('session_anonymized')\n",
    "    }\n",
    "\n",
    "    # Create arguments for each group\n",
    "    args = [\n",
    "        (grouped_original[key], grouped_merged[key])\n",
    "        for key in grouped_original.keys() & grouped_merged.keys()\n",
    "    ]\n",
    "\n",
    "    # Set the number of CPUs to the available count if exceeding\n",
    "    num_cpus = min(num_cpus, cpu_count())\n",
    "\n",
    "    # Use multiprocessing to process groups in parallel\n",
    "    with Pool(processes=num_cpus, initializer=init_worker) as pool:\n",
    "        results = list(tqdm(pool.imap(process_group, args), total=len(args), desc=\"Processing Groups\"))\n",
    "\n",
    "    # Combine all processed groups into a single DataFrame\n",
    "    processed_df = pd.concat(results, ignore_index=True)\n",
    "    return processed_df\n",
    "\n",
    "# Example usage\n",
    "processed_df_flow = parallel_process(merged_processed_unitied_logs, df_processed, num_cpus=20)\n",
    "processed_df_flow"
   ]
  },
  {
   "cell_type": "code",
   "execution_count": 15,
   "id": "e6c57ddb-f186-4b63-aa0e-46f99be9bc28",
   "metadata": {},
   "outputs": [
    {
     "data": {
      "text/html": [
       "<div>\n",
       "<style scoped>\n",
       "    .dataframe tbody tr th:only-of-type {\n",
       "        vertical-align: middle;\n",
       "    }\n",
       "\n",
       "    .dataframe tbody tr th {\n",
       "        vertical-align: top;\n",
       "    }\n",
       "\n",
       "    .dataframe thead th {\n",
       "        text-align: right;\n",
       "    }\n",
       "</style>\n",
       "<table border=\"1\" class=\"dataframe\">\n",
       "  <thead>\n",
       "    <tr style=\"text-align: right;\">\n",
       "      <th></th>\n",
       "      <th>session_anonymized</th>\n",
       "      <th>ts</th>\n",
       "      <th>cat</th>\n",
       "      <th>message</th>\n",
       "      <th>message_eng</th>\n",
       "      <th>message_content</th>\n",
       "      <th>localization_id</th>\n",
       "      <th>merge_count</th>\n",
       "    </tr>\n",
       "  </thead>\n",
       "  <tbody>\n",
       "    <tr>\n",
       "      <th>96</th>\n",
       "      <td>38A9880F</td>\n",
       "      <td>1679008519</td>\n",
       "      <td>workflow</td>\n",
       "      <td>Tool: Rectangle (-203), End Event: Wijzig inst...</td>\n",
       "      <td>Tool: Rectangle (-203), End Event: Change Attr...</td>\n",
       "      <td>Tool: Rectangle, End Event: Change Attributes</td>\n",
       "      <td>(-203),  (11)</td>\n",
       "      <td>1</td>\n",
       "    </tr>\n",
       "    <tr>\n",
       "      <th>852</th>\n",
       "      <td>37C48083</td>\n",
       "      <td>1692048655</td>\n",
       "      <td>workflow</td>\n",
       "      <td>Tool: Line (-201), Tool: Move by Points (-352)</td>\n",
       "      <td>Tool: Line (-201), Tool: Move by Points (-352)</td>\n",
       "      <td>Tool: Line, Tool: Move by Points</td>\n",
       "      <td>(-201),  (-352)</td>\n",
       "      <td>1</td>\n",
       "    </tr>\n",
       "    <tr>\n",
       "      <th>1393</th>\n",
       "      <td>4FD137B1</td>\n",
       "      <td>1678449091</td>\n",
       "      <td>workflow</td>\n",
       "      <td>Menu: Copy -  (-28) (0), End Event: 繧｢繧ｯ繝繧｣繝悶↑...</td>\n",
       "      <td>Menu: Copy -  (-28) (0), End Event: Set Active...</td>\n",
       "      <td>Menu: Copy - , End Event: Set Active Layer, Me...</td>\n",
       "      <td>(-28) (0),  (32),  (-29) (0)</td>\n",
       "      <td>1</td>\n",
       "    </tr>\n",
       "    <tr>\n",
       "      <th>1456</th>\n",
       "      <td>C86E0BA0</td>\n",
       "      <td>1697188269</td>\n",
       "      <td>workflow</td>\n",
       "      <td>Menu: Duplicate -  (-33) (0), End Event: Dépla...</td>\n",
       "      <td>Menu: Duplicate -  (-33) (0), End Event: Drag ...</td>\n",
       "      <td>Menu: Duplicate - , End Event: Drag, End Event...</td>\n",
       "      <td>(-33) (0),  (75),  (282)</td>\n",
       "      <td>1</td>\n",
       "    </tr>\n",
       "    <tr>\n",
       "      <th>1463</th>\n",
       "      <td>C86E0BA0</td>\n",
       "      <td>1697188332</td>\n",
       "      <td>workflow</td>\n",
       "      <td>Menu: Duplicate -  (-33) (0), End Event: Dépla...</td>\n",
       "      <td>Menu: Duplicate -  (-33) (0), End Event: Drag ...</td>\n",
       "      <td>Menu: Duplicate - , End Event: Drag, End Event...</td>\n",
       "      <td>(-33) (0),  (75),  (282)</td>\n",
       "      <td>1</td>\n",
       "    </tr>\n",
       "    <tr>\n",
       "      <th>...</th>\n",
       "      <td>...</td>\n",
       "      <td>...</td>\n",
       "      <td>...</td>\n",
       "      <td>...</td>\n",
       "      <td>...</td>\n",
       "      <td>...</td>\n",
       "      <td>...</td>\n",
       "      <td>...</td>\n",
       "    </tr>\n",
       "    <tr>\n",
       "      <th>375304506</th>\n",
       "      <td>300AAFA5</td>\n",
       "      <td>1685594045</td>\n",
       "      <td>workflow</td>\n",
       "      <td>Menu: Copy -  (-28) (0), End Event: Set Active...</td>\n",
       "      <td>Menu: Copy -  (-28) (0), End Event: Set Active...</td>\n",
       "      <td>Menu: Copy - , End Event: Set Active Layer, Me...</td>\n",
       "      <td>(-28) (0),  (32),  (-29) (0)</td>\n",
       "      <td>1</td>\n",
       "    </tr>\n",
       "    <tr>\n",
       "      <th>375304548</th>\n",
       "      <td>300AAFA5</td>\n",
       "      <td>1685599183</td>\n",
       "      <td>workflow</td>\n",
       "      <td>Menu: Copy -  (-28) (0), End Event: Set Active...</td>\n",
       "      <td>Menu: Copy -  (-28) (0), End Event: Set Active...</td>\n",
       "      <td>Menu: Copy - , End Event: Set Active Layer, Me...</td>\n",
       "      <td>(-28) (0),  (32),  (-29) (0)</td>\n",
       "      <td>1</td>\n",
       "    </tr>\n",
       "    <tr>\n",
       "      <th>375304595</th>\n",
       "      <td>300AAFA5</td>\n",
       "      <td>1685604958</td>\n",
       "      <td>workflow</td>\n",
       "      <td>Tool: Rectangle (-203), End Event: Change Attr...</td>\n",
       "      <td>Tool: Rectangle (-203), End Event: Change Attr...</td>\n",
       "      <td>Tool: Rectangle, End Event: Change Attributes</td>\n",
       "      <td>(-203),  (11)</td>\n",
       "      <td>1</td>\n",
       "    </tr>\n",
       "    <tr>\n",
       "      <th>375304596</th>\n",
       "      <td>300AAFA5</td>\n",
       "      <td>1685604964</td>\n",
       "      <td>workflow</td>\n",
       "      <td>Tool: Rectangle (-203), End Event: Change Attr...</td>\n",
       "      <td>Tool: Rectangle (-203), End Event: Change Attr...</td>\n",
       "      <td>Tool: Rectangle, End Event: Change Attributes</td>\n",
       "      <td>(-203),  (11)</td>\n",
       "      <td>1</td>\n",
       "    </tr>\n",
       "    <tr>\n",
       "      <th>375304606</th>\n",
       "      <td>300AAFA5</td>\n",
       "      <td>1685605082</td>\n",
       "      <td>workflow</td>\n",
       "      <td>Tool: Line (-201), End Event: Delete (58), Too...</td>\n",
       "      <td>Tool: Line (-201), End Event: Delete (58), Too...</td>\n",
       "      <td>Tool: Line, End Event: Delete, Tool: Line</td>\n",
       "      <td>(-201),  (58),  (-201)</td>\n",
       "      <td>1</td>\n",
       "    </tr>\n",
       "  </tbody>\n",
       "</table>\n",
       "<p>3298398 rows × 8 columns</p>\n",
       "</div>"
      ],
      "text/plain": [
       "          session_anonymized          ts       cat  \\\n",
       "96                  38A9880F  1679008519  workflow   \n",
       "852                 37C48083  1692048655  workflow   \n",
       "1393                4FD137B1  1678449091  workflow   \n",
       "1456                C86E0BA0  1697188269  workflow   \n",
       "1463                C86E0BA0  1697188332  workflow   \n",
       "...                      ...         ...       ...   \n",
       "375304506           300AAFA5  1685594045  workflow   \n",
       "375304548           300AAFA5  1685599183  workflow   \n",
       "375304595           300AAFA5  1685604958  workflow   \n",
       "375304596           300AAFA5  1685604964  workflow   \n",
       "375304606           300AAFA5  1685605082  workflow   \n",
       "\n",
       "                                                     message  \\\n",
       "96         Tool: Rectangle (-203), End Event: Wijzig inst...   \n",
       "852           Tool: Line (-201), Tool: Move by Points (-352)   \n",
       "1393       Menu: Copy -  (-28) (0), End Event: 繧｢繧ｯ繝繧｣繝悶↑...   \n",
       "1456       Menu: Duplicate -  (-33) (0), End Event: Dépla...   \n",
       "1463       Menu: Duplicate -  (-33) (0), End Event: Dépla...   \n",
       "...                                                      ...   \n",
       "375304506  Menu: Copy -  (-28) (0), End Event: Set Active...   \n",
       "375304548  Menu: Copy -  (-28) (0), End Event: Set Active...   \n",
       "375304595  Tool: Rectangle (-203), End Event: Change Attr...   \n",
       "375304596  Tool: Rectangle (-203), End Event: Change Attr...   \n",
       "375304606  Tool: Line (-201), End Event: Delete (58), Too...   \n",
       "\n",
       "                                                 message_eng  \\\n",
       "96         Tool: Rectangle (-203), End Event: Change Attr...   \n",
       "852           Tool: Line (-201), Tool: Move by Points (-352)   \n",
       "1393       Menu: Copy -  (-28) (0), End Event: Set Active...   \n",
       "1456       Menu: Duplicate -  (-33) (0), End Event: Drag ...   \n",
       "1463       Menu: Duplicate -  (-33) (0), End Event: Drag ...   \n",
       "...                                                      ...   \n",
       "375304506  Menu: Copy -  (-28) (0), End Event: Set Active...   \n",
       "375304548  Menu: Copy -  (-28) (0), End Event: Set Active...   \n",
       "375304595  Tool: Rectangle (-203), End Event: Change Attr...   \n",
       "375304596  Tool: Rectangle (-203), End Event: Change Attr...   \n",
       "375304606  Tool: Line (-201), End Event: Delete (58), Too...   \n",
       "\n",
       "                                             message_content  \\\n",
       "96             Tool: Rectangle, End Event: Change Attributes   \n",
       "852                         Tool: Line, Tool: Move by Points   \n",
       "1393       Menu: Copy - , End Event: Set Active Layer, Me...   \n",
       "1456       Menu: Duplicate - , End Event: Drag, End Event...   \n",
       "1463       Menu: Duplicate - , End Event: Drag, End Event...   \n",
       "...                                                      ...   \n",
       "375304506  Menu: Copy - , End Event: Set Active Layer, Me...   \n",
       "375304548  Menu: Copy - , End Event: Set Active Layer, Me...   \n",
       "375304595      Tool: Rectangle, End Event: Change Attributes   \n",
       "375304596      Tool: Rectangle, End Event: Change Attributes   \n",
       "375304606          Tool: Line, End Event: Delete, Tool: Line   \n",
       "\n",
       "                         localization_id  merge_count  \n",
       "96                         (-203),  (11)            1  \n",
       "852                      (-201),  (-352)            1  \n",
       "1393        (-28) (0),  (32),  (-29) (0)            1  \n",
       "1456            (-33) (0),  (75),  (282)            1  \n",
       "1463            (-33) (0),  (75),  (282)            1  \n",
       "...                                  ...          ...  \n",
       "375304506   (-28) (0),  (32),  (-29) (0)            1  \n",
       "375304548   (-28) (0),  (32),  (-29) (0)            1  \n",
       "375304595                  (-203),  (11)            1  \n",
       "375304596                  (-203),  (11)            1  \n",
       "375304606         (-201),  (58),  (-201)            1  \n",
       "\n",
       "[3298398 rows x 8 columns]"
      ]
     },
     "execution_count": 15,
     "metadata": {},
     "output_type": "execute_result"
    }
   ],
   "source": [
    "processed_df_flow[processed_df_flow['cat'] == 'workflow']"
   ]
  },
  {
   "cell_type": "code",
   "execution_count": null,
   "id": "b1723ae5-b6ce-422e-8faf-cc689aeade6c",
   "metadata": {},
   "outputs": [],
   "source": [
    "processed_df_flow.to_parquet('data/merged_logs_with_workflows.parquet', index=False)"
   ]
  },
  {
   "cell_type": "markdown",
   "id": "c24ee0e6-f625-4fe6-8cc3-af4b506cf01a",
   "metadata": {},
   "source": [
    "## Unique items vocabulary"
   ]
  },
  {
   "cell_type": "code",
   "execution_count": 18,
   "id": "4d717c6e-5dfc-49b4-8858-a953098bee70",
   "metadata": {},
   "outputs": [],
   "source": [
    "df_final = processed_df_flow.copy()"
   ]
  },
  {
   "cell_type": "code",
   "execution_count": 19,
   "id": "bf7faa46-15eb-4925-82f6-b835d340c185",
   "metadata": {},
   "outputs": [],
   "source": [
    "workflows_df = df_final[df_final['cat'] == 'workflow']"
   ]
  },
  {
   "cell_type": "code",
   "execution_count": 20,
   "id": "dc825a5f-20b9-4635-b43e-aacfba694f1d",
   "metadata": {},
   "outputs": [],
   "source": [
    "counts_workflows = workflows_df['message_content'].value_counts().reset_index()\n",
    "counts_workflows.columns = ['message_content', 'count']"
   ]
  },
  {
   "cell_type": "code",
   "execution_count": 21,
   "id": "1d24272e-8014-443e-9755-912d07219c94",
   "metadata": {},
   "outputs": [
    {
     "data": {
      "text/html": [
       "<div>\n",
       "<style scoped>\n",
       "    .dataframe tbody tr th:only-of-type {\n",
       "        vertical-align: middle;\n",
       "    }\n",
       "\n",
       "    .dataframe tbody tr th {\n",
       "        vertical-align: top;\n",
       "    }\n",
       "\n",
       "    .dataframe thead th {\n",
       "        text-align: right;\n",
       "    }\n",
       "</style>\n",
       "<table border=\"1\" class=\"dataframe\">\n",
       "  <thead>\n",
       "    <tr style=\"text-align: right;\">\n",
       "      <th></th>\n",
       "      <th>message_content</th>\n",
       "      <th>count</th>\n",
       "    </tr>\n",
       "  </thead>\n",
       "  <tbody>\n",
       "    <tr>\n",
       "      <th>0</th>\n",
       "      <td>Tool: Rectangle, End Event: Change Attributes</td>\n",
       "      <td>703314</td>\n",
       "    </tr>\n",
       "    <tr>\n",
       "      <th>1</th>\n",
       "      <td>Menu: Copy - , End Event: Set Active Layer, Me...</td>\n",
       "      <td>639281</td>\n",
       "    </tr>\n",
       "    <tr>\n",
       "      <th>2</th>\n",
       "      <td>Tool: Line, Tool: Move by Points</td>\n",
       "      <td>397279</td>\n",
       "    </tr>\n",
       "    <tr>\n",
       "      <th>3</th>\n",
       "      <td>Tool: Line, End Event: Delete, Tool: Line</td>\n",
       "      <td>392573</td>\n",
       "    </tr>\n",
       "    <tr>\n",
       "      <th>4</th>\n",
       "      <td>Tool: 2D Polygon, End Event: Change Attributes</td>\n",
       "      <td>344332</td>\n",
       "    </tr>\n",
       "    <tr>\n",
       "      <th>5</th>\n",
       "      <td>Menu: Duplicate - , End Event: Drag, End Event...</td>\n",
       "      <td>278704</td>\n",
       "    </tr>\n",
       "    <tr>\n",
       "      <th>6</th>\n",
       "      <td>Tool: Rectangle, Menu: Add Surface -</td>\n",
       "      <td>238289</td>\n",
       "    </tr>\n",
       "    <tr>\n",
       "      <th>7</th>\n",
       "      <td>Tool: Rectangle, Menu: Extrude and Edit -</td>\n",
       "      <td>217330</td>\n",
       "    </tr>\n",
       "    <tr>\n",
       "      <th>8</th>\n",
       "      <td>Tool: Mirror, End Event: Drag, End Event: Resize</td>\n",
       "      <td>67975</td>\n",
       "    </tr>\n",
       "    <tr>\n",
       "      <th>9</th>\n",
       "      <td>Menu: Save As - , Menu: Export PDF -</td>\n",
       "      <td>19321</td>\n",
       "    </tr>\n",
       "  </tbody>\n",
       "</table>\n",
       "</div>"
      ],
      "text/plain": [
       "                                     message_content   count\n",
       "0      Tool: Rectangle, End Event: Change Attributes  703314\n",
       "1  Menu: Copy - , End Event: Set Active Layer, Me...  639281\n",
       "2                   Tool: Line, Tool: Move by Points  397279\n",
       "3          Tool: Line, End Event: Delete, Tool: Line  392573\n",
       "4     Tool: 2D Polygon, End Event: Change Attributes  344332\n",
       "5  Menu: Duplicate - , End Event: Drag, End Event...  278704\n",
       "6              Tool: Rectangle, Menu: Add Surface -   238289\n",
       "7         Tool: Rectangle, Menu: Extrude and Edit -   217330\n",
       "8   Tool: Mirror, End Event: Drag, End Event: Resize   67975\n",
       "9              Menu: Save As - , Menu: Export PDF -    19321"
      ]
     },
     "execution_count": 21,
     "metadata": {},
     "output_type": "execute_result"
    }
   ],
   "source": [
    "counts_workflows"
   ]
  },
  {
   "cell_type": "code",
   "execution_count": 22,
   "id": "8ba055b7-4e4f-466d-83ea-761baf7d79c4",
   "metadata": {},
   "outputs": [],
   "source": [
    "counts_workflows.to_csv('workflows.csv')"
   ]
  },
  {
   "cell_type": "code",
   "execution_count": 23,
   "id": "9f1dc01c-2d2c-4e16-9a14-341522304c15",
   "metadata": {},
   "outputs": [],
   "source": [
    "counts = merged_processed_unitied_logs['message_content'].value_counts().reset_index()\n",
    "counts.columns = ['message_content', 'count']"
   ]
  },
  {
   "cell_type": "code",
   "execution_count": 24,
   "id": "8f67d63c-fa2a-4765-bc5c-d6b3f3c35489",
   "metadata": {},
   "outputs": [
    {
     "data": {
      "text/html": [
       "<div>\n",
       "<style scoped>\n",
       "    .dataframe tbody tr th:only-of-type {\n",
       "        vertical-align: middle;\n",
       "    }\n",
       "\n",
       "    .dataframe tbody tr th {\n",
       "        vertical-align: top;\n",
       "    }\n",
       "\n",
       "    .dataframe thead th {\n",
       "        text-align: right;\n",
       "    }\n",
       "</style>\n",
       "<table border=\"1\" class=\"dataframe\">\n",
       "  <thead>\n",
       "    <tr style=\"text-align: right;\">\n",
       "      <th></th>\n",
       "      <th>message_content</th>\n",
       "      <th>count</th>\n",
       "    </tr>\n",
       "  </thead>\n",
       "  <tbody>\n",
       "    <tr>\n",
       "      <th>0</th>\n",
       "      <td>End Event: Drag</td>\n",
       "      <td>48492994</td>\n",
       "    </tr>\n",
       "    <tr>\n",
       "      <th>1</th>\n",
       "      <td>End Event: Delete</td>\n",
       "      <td>32555193</td>\n",
       "    </tr>\n",
       "    <tr>\n",
       "      <th>2</th>\n",
       "      <td>End Event: Resize</td>\n",
       "      <td>23870789</td>\n",
       "    </tr>\n",
       "    <tr>\n",
       "      <th>3</th>\n",
       "      <td>End Event: Shape Pane Edit</td>\n",
       "      <td>20951431</td>\n",
       "    </tr>\n",
       "    <tr>\n",
       "      <th>4</th>\n",
       "      <td>End Event: Set Active Layer</td>\n",
       "      <td>19596011</td>\n",
       "    </tr>\n",
       "    <tr>\n",
       "      <th>...</th>\n",
       "      <td>...</td>\n",
       "      <td>...</td>\n",
       "    </tr>\n",
       "    <tr>\n",
       "      <th>4924</th>\n",
       "      <td>Tool: St Frame_elevation</td>\n",
       "      <td>10</td>\n",
       "    </tr>\n",
       "    <tr>\n",
       "      <th>4925</th>\n",
       "      <td>End Event: Define Center Line Marker</td>\n",
       "      <td>10</td>\n",
       "    </tr>\n",
       "    <tr>\n",
       "      <th>4926</th>\n",
       "      <td>End Event: Generate columns and intercolumns</td>\n",
       "      <td>10</td>\n",
       "    </tr>\n",
       "    <tr>\n",
       "      <th>4927</th>\n",
       "      <td>Tool: DBTools</td>\n",
       "      <td>10</td>\n",
       "    </tr>\n",
       "    <tr>\n",
       "      <th>4928</th>\n",
       "      <td>Menu: Delete cutting area -</td>\n",
       "      <td>10</td>\n",
       "    </tr>\n",
       "  </tbody>\n",
       "</table>\n",
       "<p>4929 rows × 2 columns</p>\n",
       "</div>"
      ],
      "text/plain": [
       "                                   message_content     count\n",
       "0                                  End Event: Drag  48492994\n",
       "1                                End Event: Delete  32555193\n",
       "2                                End Event: Resize  23870789\n",
       "3                       End Event: Shape Pane Edit  20951431\n",
       "4                      End Event: Set Active Layer  19596011\n",
       "...                                            ...       ...\n",
       "4924                      Tool: St Frame_elevation        10\n",
       "4925          End Event: Define Center Line Marker        10\n",
       "4926  End Event: Generate columns and intercolumns        10\n",
       "4927                                 Tool: DBTools        10\n",
       "4928                   Menu: Delete cutting area -        10\n",
       "\n",
       "[4929 rows x 2 columns]"
      ]
     },
     "execution_count": 24,
     "metadata": {},
     "output_type": "execute_result"
    }
   ],
   "source": [
    "counts"
   ]
  },
  {
   "cell_type": "code",
   "execution_count": 25,
   "id": "1bfb3c6c-e4a9-4278-bfa9-8e3ef64cb01c",
   "metadata": {},
   "outputs": [],
   "source": [
    "import json\n",
    "messages = counts['message_content'].to_list()\n",
    "workflows = counts_workflows['message_content'].to_list()"
   ]
  },
  {
   "cell_type": "code",
   "execution_count": 26,
   "id": "fc49dc55-ac23-46a5-82ac-34f95cec47c8",
   "metadata": {},
   "outputs": [],
   "source": [
    "voc = messages + workflows"
   ]
  },
  {
   "cell_type": "code",
   "execution_count": 27,
   "id": "9a55313d-838c-4cc4-be38-30d87a0a28ef",
   "metadata": {},
   "outputs": [
    {
     "name": "stdout",
     "output_type": "stream",
     "text": [
      "Sorted mtoi dictionary saved as voc_10workflows.json\n"
     ]
    }
   ],
   "source": [
    "message_dict = {item: index + 1 for index, item in enumerate(voc)}\n",
    "\n",
    "# Write the dictionary to a JSON file\n",
    "with open('./1226voc_10workflows.json', 'w') as json_file:\n",
    "    json.dump(message_dict, json_file, indent=4)\n",
    "\n",
    "print(\"Sorted mtoi dictionary saved as voc_10workflows.json\")"
   ]
  }
 ],
 "metadata": {
  "kernelspec": {
   "display_name": "Python 3 (ipykernel)",
   "language": "python",
   "name": "python3"
  },
  "language_info": {
   "codemirror_mode": {
    "name": "ipython",
    "version": 3
   },
   "file_extension": ".py",
   "mimetype": "text/x-python",
   "name": "python",
   "nbconvert_exporter": "python",
   "pygments_lexer": "ipython3",
   "version": "3.9.19"
  }
 },
 "nbformat": 4,
 "nbformat_minor": 5
}
