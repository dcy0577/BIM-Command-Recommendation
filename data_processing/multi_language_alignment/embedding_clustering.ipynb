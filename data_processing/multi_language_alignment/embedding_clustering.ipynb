{
 "cells": [
  {
   "cell_type": "markdown",
   "id": "642ccb05-4012-42b4-93a2-e9d67f99ee33",
   "metadata": {},
   "source": [
    "## Read translated data"
   ]
  },
  {
   "cell_type": "code",
   "execution_count": 1,
   "id": "4ade74fa-8436-4385-ae55-74b361657c3d",
   "metadata": {},
   "outputs": [],
   "source": [
    "import pandas as pd"
   ]
  },
  {
   "cell_type": "code",
   "execution_count": null,
   "id": "53de02ec-f40f-4e58-8e3f-c9e8734eb28c",
   "metadata": {},
   "outputs": [],
   "source": [
    "path = '/data/preprocessed_language_dic.parquet'\n",
    "df = pd.read_parquet(path)"
   ]
  },
  {
   "cell_type": "markdown",
   "id": "225854d0",
   "metadata": {},
   "source": [
    "### Translated high level commands"
   ]
  },
  {
   "cell_type": "code",
   "execution_count": 6,
   "id": "696ddfb1-6e32-4f6e-b930-6215ee98ed84",
   "metadata": {},
   "outputs": [
    {
     "data": {
      "text/html": [
       "<div>\n",
       "<style scoped>\n",
       "    .dataframe tbody tr th:only-of-type {\n",
       "        vertical-align: middle;\n",
       "    }\n",
       "\n",
       "    .dataframe tbody tr th {\n",
       "        vertical-align: top;\n",
       "    }\n",
       "\n",
       "    .dataframe thead th {\n",
       "        text-align: right;\n",
       "    }\n",
       "</style>\n",
       "<table border=\"1\" class=\"dataframe\">\n",
       "  <thead>\n",
       "    <tr style=\"text-align: right;\">\n",
       "      <th></th>\n",
       "      <th>message</th>\n",
       "      <th>count</th>\n",
       "      <th>id</th>\n",
       "      <th>cat</th>\n",
       "      <th>translated_message</th>\n",
       "      <th>message_language</th>\n",
       "      <th>language_confidence</th>\n",
       "    </tr>\n",
       "  </thead>\n",
       "  <tbody>\n",
       "    <tr>\n",
       "      <th>2</th>\n",
       "      <td>Tool: Reshape (-214)</td>\n",
       "      <td>29945982</td>\n",
       "      <td>-214</td>\n",
       "      <td>Tool</td>\n",
       "      <td>Tool: Reshape (-214)</td>\n",
       "      <td>en</td>\n",
       "      <td>1.000000</td>\n",
       "    </tr>\n",
       "    <tr>\n",
       "      <th>5</th>\n",
       "      <td>Tool: Move by Points (-352)</td>\n",
       "      <td>21365110</td>\n",
       "      <td>-352</td>\n",
       "      <td>Tool</td>\n",
       "      <td>Tool: Move by Points (-352)</td>\n",
       "      <td>en</td>\n",
       "      <td>1.000000</td>\n",
       "    </tr>\n",
       "    <tr>\n",
       "      <th>8</th>\n",
       "      <td>Tool: Line (-201)</td>\n",
       "      <td>17893527</td>\n",
       "      <td>-201</td>\n",
       "      <td>Tool</td>\n",
       "      <td>Tool: Line (-201)</td>\n",
       "      <td>en</td>\n",
       "      <td>1.000000</td>\n",
       "    </tr>\n",
       "    <tr>\n",
       "      <th>10</th>\n",
       "      <td>Menu: Save -  (-5) (0)</td>\n",
       "      <td>17072882</td>\n",
       "      <td>-5,0</td>\n",
       "      <td>Menu</td>\n",
       "      <td>Menu: Save -  (-5) (0)</td>\n",
       "      <td>en</td>\n",
       "      <td>0.966537</td>\n",
       "    </tr>\n",
       "    <tr>\n",
       "      <th>14</th>\n",
       "      <td>Menu: Copy -  (-28) (0)</td>\n",
       "      <td>13848027</td>\n",
       "      <td>-28,0</td>\n",
       "      <td>Menu</td>\n",
       "      <td>Menu: Copy -  (-28) (0)</td>\n",
       "      <td>en</td>\n",
       "      <td>0.744751</td>\n",
       "    </tr>\n",
       "    <tr>\n",
       "      <th>...</th>\n",
       "      <td>...</td>\n",
       "      <td>...</td>\n",
       "      <td>...</td>\n",
       "      <td>...</td>\n",
       "      <td>...</td>\n",
       "      <td>...</td>\n",
       "      <td>...</td>\n",
       "    </tr>\n",
       "    <tr>\n",
       "      <th>21103</th>\n",
       "      <td>Menu: XG Unit from Polygon -  (393) (0)</td>\n",
       "      <td>11</td>\n",
       "      <td>393,0</td>\n",
       "      <td>Menu</td>\n",
       "      <td>Menu: XG Unit from Polygon -  (393) (0)</td>\n",
       "      <td>en</td>\n",
       "      <td>1.000000</td>\n",
       "    </tr>\n",
       "    <tr>\n",
       "      <th>21104</th>\n",
       "      <td>Menu: Window Arranging Items - Baldosa (-520) (1)</td>\n",
       "      <td>11</td>\n",
       "      <td>-520,1</td>\n",
       "      <td>Menu</td>\n",
       "      <td>Menu: Window Arranging Items - Baldosa (-520) (1)</td>\n",
       "      <td>en</td>\n",
       "      <td>0.857517</td>\n",
       "    </tr>\n",
       "    <tr>\n",
       "      <th>21106</th>\n",
       "      <td>Menu: WorkspacesDialog -  (202) (0)</td>\n",
       "      <td>11</td>\n",
       "      <td>202,0</td>\n",
       "      <td>Menu</td>\n",
       "      <td>Menu: WorkspacesDialog -  (202) (0)</td>\n",
       "      <td>en</td>\n",
       "      <td>0.902133</td>\n",
       "    </tr>\n",
       "    <tr>\n",
       "      <th>21107</th>\n",
       "      <td>Menu: CExtMenuDatabase - Externe Datenquelle a...</td>\n",
       "      <td>11</td>\n",
       "      <td>47,4</td>\n",
       "      <td>Menu</td>\n",
       "      <td>Menu: CExtMenuDatabase - Update external data ...</td>\n",
       "      <td>de</td>\n",
       "      <td>1.000000</td>\n",
       "    </tr>\n",
       "    <tr>\n",
       "      <th>21108</th>\n",
       "      <td>Menu: XG GroupWithConnectedFittings Menu -  (3...</td>\n",
       "      <td>11</td>\n",
       "      <td>345,0</td>\n",
       "      <td>Menu</td>\n",
       "      <td>Menu: XG GroupWithConnectedFittings Menu -  (3...</td>\n",
       "      <td>en</td>\n",
       "      <td>0.962762</td>\n",
       "    </tr>\n",
       "  </tbody>\n",
       "</table>\n",
       "<p>11728 rows × 7 columns</p>\n",
       "</div>"
      ],
      "text/plain": [
       "                                                 message     count      id  \\\n",
       "2                                   Tool: Reshape (-214)  29945982    -214   \n",
       "5                            Tool: Move by Points (-352)  21365110    -352   \n",
       "8                                      Tool: Line (-201)  17893527    -201   \n",
       "10                                Menu: Save -  (-5) (0)  17072882    -5,0   \n",
       "14                               Menu: Copy -  (-28) (0)  13848027   -28,0   \n",
       "...                                                  ...       ...     ...   \n",
       "21103            Menu: XG Unit from Polygon -  (393) (0)        11   393,0   \n",
       "21104  Menu: Window Arranging Items - Baldosa (-520) (1)        11  -520,1   \n",
       "21106                Menu: WorkspacesDialog -  (202) (0)        11   202,0   \n",
       "21107  Menu: CExtMenuDatabase - Externe Datenquelle a...        11    47,4   \n",
       "21108  Menu: XG GroupWithConnectedFittings Menu -  (3...        11   345,0   \n",
       "\n",
       "        cat                                 translated_message  \\\n",
       "2      Tool                               Tool: Reshape (-214)   \n",
       "5      Tool                        Tool: Move by Points (-352)   \n",
       "8      Tool                                  Tool: Line (-201)   \n",
       "10     Menu                             Menu: Save -  (-5) (0)   \n",
       "14     Menu                            Menu: Copy -  (-28) (0)   \n",
       "...     ...                                                ...   \n",
       "21103  Menu            Menu: XG Unit from Polygon -  (393) (0)   \n",
       "21104  Menu  Menu: Window Arranging Items - Baldosa (-520) (1)   \n",
       "21106  Menu                Menu: WorkspacesDialog -  (202) (0)   \n",
       "21107  Menu  Menu: CExtMenuDatabase - Update external data ...   \n",
       "21108  Menu  Menu: XG GroupWithConnectedFittings Menu -  (3...   \n",
       "\n",
       "      message_language  language_confidence  \n",
       "2                   en             1.000000  \n",
       "5                   en             1.000000  \n",
       "8                   en             1.000000  \n",
       "10                  en             0.966537  \n",
       "14                  en             0.744751  \n",
       "...                ...                  ...  \n",
       "21103               en             1.000000  \n",
       "21104               en             0.857517  \n",
       "21106               en             0.902133  \n",
       "21107               de             1.000000  \n",
       "21108               en             0.962762  \n",
       "\n",
       "[11728 rows x 7 columns]"
      ]
     },
     "execution_count": 6,
     "metadata": {},
     "output_type": "execute_result"
    }
   ],
   "source": [
    "df_tool_menu = df[df['cat'].isin(['Tool', 'Menu'])]\n",
    "df_tool_menu"
   ]
  },
  {
   "cell_type": "markdown",
   "id": "62322f1d-f544-4ffd-8b42-74e06e2c4381",
   "metadata": {},
   "source": [
    "### If there is only one command for one ID, put this translated message to the label of this ID"
   ]
  },
  {
   "cell_type": "code",
   "execution_count": 47,
   "id": "d431594f-40dc-40c3-b3a3-03764bfb7b7c",
   "metadata": {},
   "outputs": [],
   "source": [
    "group_data = df.groupby('id')\n",
    "processed_data = []\n",
    "one_id_one_command = []\n",
    "for session_id,group_df in group_data:\n",
    "    \n",
    "    if len(group_df) == 1:\n",
    "        one_id_one_command.append(session_id)\n",
    "        group_df['label'] = group_df['translated_message']\n",
    "    else:\n",
    "        group_df['label'] = pd.NA\n",
    "        \n",
    "    processed_data.append(group_df)\n",
    "df_first = pd.concat(processed_data)"
   ]
  },
  {
   "cell_type": "code",
   "execution_count": null,
   "id": "73863aad-510a-4b2d-af16-49216d51a891",
   "metadata": {},
   "outputs": [],
   "source": [
    "mask = pd.isna(df_first['label'])\n",
    "df_first_result = df_first[~mask]\n",
    "df_second = df_first[mask]\n",
    "print()"
   ]
  },
  {
   "cell_type": "markdown",
   "id": "cd307db7-5213-48b4-8587-3781701d37fb",
   "metadata": {},
   "source": [
    "### Embedding for the rest of commands"
   ]
  },
  {
   "cell_type": "code",
   "execution_count": 5,
   "id": "3cff5113-964f-4a9c-9377-ff4f7fa86bea",
   "metadata": {},
   "outputs": [],
   "source": [
    "import voyageai\n",
    "from getpass import getpass\n",
    "from tqdm.auto import tqdm"
   ]
  },
  {
   "cell_type": "code",
   "execution_count": 6,
   "id": "8bbb26c3-0628-47f8-97d4-0df2e93abac6",
   "metadata": {},
   "outputs": [
    {
     "name": "stdout",
     "output_type": "stream",
     "text": [
      " ········\n"
     ]
    }
   ],
   "source": [
    "api_key = getpass()"
   ]
  },
  {
   "cell_type": "code",
   "execution_count": 7,
   "id": "00b1c94f-f642-41d1-91f2-4347ce1ef086",
   "metadata": {},
   "outputs": [],
   "source": [
    "vo = voyageai.Client(api_key)"
   ]
  },
  {
   "cell_type": "code",
   "execution_count": 8,
   "id": "5f503b15-9a8f-4b60-9312-b50cdc67dadb",
   "metadata": {},
   "outputs": [],
   "source": [
    "def get_embedding(texts):\n",
    "    result = vo.embed(texts, model=\"voyage-large-2-instruct\", input_type=\"document\")\n",
    "    return result.embeddings"
   ]
  },
  {
   "cell_type": "code",
   "execution_count": null,
   "id": "993b9c9f-5578-445f-bd85-04cc43ffb8ea",
   "metadata": {},
   "outputs": [],
   "source": [
    "tqdm.pandas()\n",
    "# The process has been preprocessed and stored as parquet\n",
    "df_second[\"embedding\"] = df_second['translated_message'].progress_apply(lambda x: get_embedding(x))"
   ]
  },
  {
   "cell_type": "code",
   "execution_count": null,
   "id": "af1145a1-57b4-488b-8e80-d4346c7c64bb",
   "metadata": {},
   "outputs": [],
   "source": [
    "df_second = pd.read_parquet('/Users/embedded.parquet')"
   ]
  },
  {
   "cell_type": "code",
   "execution_count": 102,
   "id": "6655d79a-9594-4cc1-9b34-42074f33eeb9",
   "metadata": {},
   "outputs": [
    {
     "name": "stdout",
     "output_type": "stream",
     "text": [
      "477      [[0.024435998871922493, 0.041921861469745636, ...\n",
      "560      [[0.016089636832475662, 0.0488973930478096, -0...\n",
      "631      [[0.01773480512201786, 0.023533957079052925, -...\n",
      "722      [[0.014917957596480846, 0.040976788848638535, ...\n",
      "742      [[0.014719028025865555, 0.027321459725499153, ...\n",
      "                               ...                        \n",
      "1022     [[0.00798321608453989, 0.023588592186570168, -...\n",
      "3186     [[0.01366106141358614, -0.006066086236387491, ...\n",
      "10156    [[-0.002803422976285219, -0.008399300277233124...\n",
      "10733    [[-0.00612988555803895, 0.005952127277851105, ...\n",
      "16237    [[-0.0038755624555051327, -0.00277991290204226...\n",
      "Name: embedding, Length: 18895, dtype: object\n"
     ]
    }
   ],
   "source": [
    "print(df_second['embedding'])"
   ]
  },
  {
   "cell_type": "code",
   "execution_count": null,
   "id": "79a1e7a6-c3b0-4c05-a769-b3b457084667",
   "metadata": {},
   "outputs": [],
   "source": [
    "import numpy as np\n",
    "grouped_data = df.groupby('id')\n",
    "processed_data = []\n",
    "one_command_groups = []\n",
    "\n",
    "for session_id, group_df in tqdm(grouped_data, desc=\"Processing similarity test\"):\n",
    "        \n",
    "    if len(group_df) < 2:\n",
    "        # Skip groups with fewer than two items, as we cannot compute pairwise similarities\n",
    "        one_command_groups.append(session_id)\n",
    "        continue\n",
    "    \n",
    "    # Stack embeddings into a matrix\n",
    "    matrix = np.vstack(group_df['embedding'].values)\n",
    "    \n",
    "    # Calculate cosine similarity matrix\n",
    "    similarity_matrix = cosine_similarity(matrix)\n",
    "    \n",
    "    # Extract upper triangle indices, ignoring the diagonal\n",
    "    upper_triangle_indices = np.triu_indices_from(similarity_matrix, k=1)\n",
    "    pairwise_similarities = similarity_matrix[upper_triangle_indices]\n",
    "    \n",
    "    # Calculate statistics\n",
    "    length = len(group_df)\n",
    "    mean_similarity = np.mean(pairwise_similarities)\n",
    "    median_similarity = np.median(pairwise_similarities)\n",
    "    std_dev_similarity = np.std(pairwise_similarities)\n",
    "    \n",
    "    # Store results in a list or another data structure\n",
    "    processed_data.append({\n",
    "        'id': session_id,\n",
    "        'length': length,\n",
    "        'mean_similarity': mean_similarity,\n",
    "        'median_similarity': median_similarity,\n",
    "        'std_dev_similarity': std_dev_similarity\n",
    "    })\n",
    "\n",
    "# Convert processed data into a DataFrame for easier analysis and reporting\n",
    "results_df = pd.DataFrame(processed_data)\n",
    "print(results_df)"
   ]
  },
  {
   "cell_type": "code",
   "execution_count": null,
   "id": "6ef2e4c9-9b18-475d-8ee4-a8fdfd91f7a8",
   "metadata": {},
   "outputs": [],
   "source": [
    "results_df.to_csv('/Users/similarity_test.csv')"
   ]
  },
  {
   "attachments": {},
   "cell_type": "markdown",
   "id": "2a8b8760-26db-4be1-adca-1c0c7f5c6cd2",
   "metadata": {},
   "source": [
    "### The next step would be the clustering of the ID based on the embedding of the command, set the center point's command name to each clustered ID"
   ]
  },
  {
   "cell_type": "code",
   "execution_count": 438,
   "id": "31869f7e-7915-4dea-8672-0da93eb3784f",
   "metadata": {},
   "outputs": [],
   "source": [
    "def to_matrix(df):\n",
    "    # Extract the 'embedding' column\n",
    "    embeddings = df['embedding']\n",
    "    \n",
    "    # Flatten the nested lists within the 'embedding' column\n",
    "    flattened_embeddings = [item for sublist in embeddings for item in sublist]\n",
    "    \n",
    "    # Convert the flattened list into a numpy array and reshape if needed\n",
    "    matrix = np.array(flattened_embeddings).reshape(len(embeddings), -1)\n",
    "    \n",
    "    return matrix"
   ]
  },
  {
   "cell_type": "code",
   "execution_count": 457,
   "id": "3a0ac9df-0695-4df9-9f16-7029e259f0b2",
   "metadata": {},
   "outputs": [],
   "source": [
    "def optimize_dbscan(matrix):\n",
    "    def dbscan_silhouette_score(params):\n",
    "        eps = params[0]\n",
    "        min_samples = 1  # Fix min_samples to 1\n",
    "        db = DBSCAN(eps=eps, min_samples=min_samples).fit(matrix)\n",
    "        labels = db.labels_\n",
    "        \n",
    "        # Ensure there is more than one cluster (excluding noise)\n",
    "        num_labels = len(set(labels)) - (1 if -1 in labels else 0)\n",
    "        if num_labels <= 1 or num_labels == len(matrix):\n",
    "            return 1  # Return a high score if there is only one cluster or no clusters, or if each sample is its own cluster\n",
    "        \n",
    "        score = silhouette_score(matrix, labels)\n",
    "        return -score  # Minimize negative silhouette score\n",
    "\n",
    "    # Adjusted search space\n",
    "    search_space = [\n",
    "        Real(0.05, 0.5, name='eps')  # Narrow the range for eps\n",
    "    ]\n",
    "\n",
    "    # Perform Bayesian optimization\n",
    "    res = gp_minimize(\n",
    "        dbscan_silhouette_score, \n",
    "        search_space, \n",
    "        n_calls=100, \n",
    "        random_state=0,\n",
    "        n_random_starts=10,  # Add more random starts to diversify initial points\n",
    "    )\n",
    "\n",
    "    best_params = {'eps': res.x[0], 'min_samples': 1}\n",
    "    return best_params"
   ]
  },
  {
   "cell_type": "code",
   "execution_count": 458,
   "id": "24fa560f-d058-455f-aa58-a09e955d383e",
   "metadata": {},
   "outputs": [],
   "source": [
    "def calculate_similarity(matrix):\n",
    "    \n",
    "    similarity_matrix = cosine_similarity(matrix)\n",
    "    upper_triangle_indices = np.triu_indices_from(similarity_matrix, k=1)\n",
    "    pairwise_similarities = similarity_matrix[upper_triangle_indices]\n",
    "    return np.median(pairwise_similarities)\n"
   ]
  },
  {
   "cell_type": "code",
   "execution_count": 459,
   "id": "b0813204-a9b3-45c1-9427-f0d1a1e53f9b",
   "metadata": {},
   "outputs": [],
   "source": [
    "def find_closest_to_center(matrix):\n",
    "    mean_vector = np.mean(matrix, axis=0)\n",
    "    distances = np.linalg.norm(matrix - mean_vector, axis=1)\n",
    "    min_index = np.argmin(distances)\n",
    "    return min_index  # Return the index of the closest vector"
   ]
  },
  {
   "cell_type": "code",
   "execution_count": 460,
   "id": "7d327c43-9273-4129-b48d-459893c9a422",
   "metadata": {},
   "outputs": [],
   "source": [
    "def set_label(df):\n",
    "    count_en = (df['message_language'] == 'en').sum()\n",
    "    if count_en == 1:\n",
    "        # Directly use the message from the single English entry as the label\n",
    "        english_message = df[df['message_language'] == 'en']['message'].iloc[0]\n",
    "        df['label'] = english_message\n",
    "    else:\n",
    "        matrix = to_matrix(df)\n",
    "        closest_index = find_closest_to_center(matrix)\n",
    "        # Use the closest index to fetch the corresponding message\n",
    "        closest_message = df.iloc[closest_index]['translated_message']\n",
    "        df['label'] = closest_message"
   ]
  },
  {
   "cell_type": "code",
   "execution_count": 461,
   "id": "de17313e-13ed-48b0-91d5-91d6cd774b95",
   "metadata": {},
   "outputs": [],
   "source": [
    "from sklearn.cluster import DBSCAN\n",
    "from sklearn import metrics\n",
    "from sklearn.datasets import make_blobs\n",
    "from sklearn.preprocessing import StandardScaler\n",
    "from sklearn import datasets\n",
    "from sklearn.metrics import silhouette_score\n",
    "from skopt import BayesSearchCV\n",
    "from skopt.space import Real, Integer\n",
    "from sklearn.metrics.pairwise import cosine_similarity\n",
    "from skopt import gp_minimize\n",
    "\n",
    "from itertools import product\n",
    "\n",
    "\n",
    "import numpy as np"
   ]
  },
  {
   "cell_type": "code",
   "execution_count": 462,
   "id": "c6c8ccde-01dc-4306-883a-e2b96cdfb949",
   "metadata": {},
   "outputs": [],
   "source": [
    "def cluster_dbscan(matrix, df):\n",
    "    best_params = optimize_dbscan(matrix)\n",
    "    db = DBSCAN(eps=best_params['eps'], min_samples=best_params['min_samples']).fit(matrix)\n",
    "    df['cluster_label'] = db.labels_"
   ]
  },
  {
   "cell_type": "code",
   "execution_count": 463,
   "id": "8c78bd7b-8398-4bca-90a8-1f6d41d9f6f3",
   "metadata": {},
   "outputs": [],
   "source": [
    "df_second_results = df_second"
   ]
  },
  {
   "cell_type": "code",
   "execution_count": 464,
   "id": "63105562-0b30-4257-8637-686c49062f22",
   "metadata": {},
   "outputs": [
    {
     "data": {
      "text/html": [
       "<div>\n",
       "<style scoped>\n",
       "    .dataframe tbody tr th:only-of-type {\n",
       "        vertical-align: middle;\n",
       "    }\n",
       "\n",
       "    .dataframe tbody tr th {\n",
       "        vertical-align: top;\n",
       "    }\n",
       "\n",
       "    .dataframe thead th {\n",
       "        text-align: right;\n",
       "    }\n",
       "</style>\n",
       "<table border=\"1\" class=\"dataframe\">\n",
       "  <thead>\n",
       "    <tr style=\"text-align: right;\">\n",
       "      <th></th>\n",
       "      <th>message</th>\n",
       "      <th>count</th>\n",
       "      <th>id</th>\n",
       "      <th>cat</th>\n",
       "      <th>translated_message</th>\n",
       "      <th>message_language</th>\n",
       "      <th>language_confidence</th>\n",
       "      <th>label</th>\n",
       "      <th>embedding</th>\n",
       "    </tr>\n",
       "  </thead>\n",
       "  <tbody>\n",
       "    <tr>\n",
       "      <th>477</th>\n",
       "      <td>End Event: Export DXF/DWG... (-1)</td>\n",
       "      <td>154786</td>\n",
       "      <td>-1</td>\n",
       "      <td>End Event</td>\n",
       "      <td>End Event: Export DXF/DWG... (-1)</td>\n",
       "      <td>en</td>\n",
       "      <td>1.000000</td>\n",
       "      <td>None</td>\n",
       "      <td>[[0.024435998871922493, 0.041921861469745636, ...</td>\n",
       "    </tr>\n",
       "    <tr>\n",
       "      <th>560</th>\n",
       "      <td>End Event: Import DXF/DWG/DWF (-1)</td>\n",
       "      <td>111143</td>\n",
       "      <td>-1</td>\n",
       "      <td>End Event</td>\n",
       "      <td>End Event: Import DXF/DWG/DWF (-1)</td>\n",
       "      <td>en</td>\n",
       "      <td>0.715005</td>\n",
       "      <td>None</td>\n",
       "      <td>[[0.016089636832475662, 0.0488973930478096, -0...</td>\n",
       "    </tr>\n",
       "    <tr>\n",
       "      <th>631</th>\n",
       "      <td>End Event: Temp Define Custom Object (-1)</td>\n",
       "      <td>84684</td>\n",
       "      <td>-1</td>\n",
       "      <td>End Event</td>\n",
       "      <td>End Event: Temp Define Custom Object (-1)</td>\n",
       "      <td>en</td>\n",
       "      <td>1.000000</td>\n",
       "      <td>None</td>\n",
       "      <td>[[0.01773480512201786, 0.023533957079052925, -...</td>\n",
       "    </tr>\n",
       "    <tr>\n",
       "      <th>722</th>\n",
       "      <td>End Event: Create Objects from Shapes... (-1)</td>\n",
       "      <td>66378</td>\n",
       "      <td>-1</td>\n",
       "      <td>End Event</td>\n",
       "      <td>End Event: Create Objects from Shapes... (-1)</td>\n",
       "      <td>en</td>\n",
       "      <td>1.000000</td>\n",
       "      <td>None</td>\n",
       "      <td>[[0.014917957596480846, 0.040976788848638535, ...</td>\n",
       "    </tr>\n",
       "    <tr>\n",
       "      <th>742</th>\n",
       "      <td>End Event: Label Legend Manager... (-1)</td>\n",
       "      <td>62979</td>\n",
       "      <td>-1</td>\n",
       "      <td>End Event</td>\n",
       "      <td>End Event: Label Legend Manager... (-1)</td>\n",
       "      <td>en</td>\n",
       "      <td>0.967216</td>\n",
       "      <td>None</td>\n",
       "      <td>[[0.014719028025865555, 0.027321459725499153, ...</td>\n",
       "    </tr>\n",
       "  </tbody>\n",
       "</table>\n",
       "</div>"
      ],
      "text/plain": [
       "                                           message   count  id        cat  \\\n",
       "477              End Event: Export DXF/DWG... (-1)  154786  -1  End Event   \n",
       "560             End Event: Import DXF/DWG/DWF (-1)  111143  -1  End Event   \n",
       "631      End Event: Temp Define Custom Object (-1)   84684  -1  End Event   \n",
       "722  End Event: Create Objects from Shapes... (-1)   66378  -1  End Event   \n",
       "742        End Event: Label Legend Manager... (-1)   62979  -1  End Event   \n",
       "\n",
       "                                translated_message message_language  \\\n",
       "477              End Event: Export DXF/DWG... (-1)               en   \n",
       "560             End Event: Import DXF/DWG/DWF (-1)               en   \n",
       "631      End Event: Temp Define Custom Object (-1)               en   \n",
       "722  End Event: Create Objects from Shapes... (-1)               en   \n",
       "742        End Event: Label Legend Manager... (-1)               en   \n",
       "\n",
       "     language_confidence label  \\\n",
       "477             1.000000  None   \n",
       "560             0.715005  None   \n",
       "631             1.000000  None   \n",
       "722             1.000000  None   \n",
       "742             0.967216  None   \n",
       "\n",
       "                                             embedding  \n",
       "477  [[0.024435998871922493, 0.041921861469745636, ...  \n",
       "560  [[0.016089636832475662, 0.0488973930478096, -0...  \n",
       "631  [[0.01773480512201786, 0.023533957079052925, -...  \n",
       "722  [[0.014917957596480846, 0.040976788848638535, ...  \n",
       "742  [[0.014719028025865555, 0.027321459725499153, ...  "
      ]
     },
     "execution_count": 464,
     "metadata": {},
     "output_type": "execute_result"
    }
   ],
   "source": [
    "df_second_results.head()"
   ]
  },
  {
   "cell_type": "code",
   "execution_count": null,
   "id": "7597a57a-a1f9-4a76-8a1a-34b8e7a9820d",
   "metadata": {
    "scrolled": true
   },
   "outputs": [],
   "source": [
    "processed_data = []\n",
    "group_data = df_second_results.groupby('id')\n",
    "for session_id, group_df in tqdm(group_data, desc='Processing set label'):\n",
    "    matrix = to_matrix(group_df)    \n",
    "    if calculate_similarity(matrix) > 0.82:\n",
    "        set_label(group_df)  # Assuming set_label modifies group_df in-place\n",
    "    else:\n",
    "        cluster_dbscan(matrix, group_df)  # Perform clustering and label the data\n",
    "        group_sub_data = group_df.groupby('cluster_label')\n",
    "        \n",
    "        processed_sub_data = []\n",
    "        for _, group_sub_df in group_sub_data:\n",
    "            set_label(group_sub_df)  # Assuming set_label modifies group_sub_df in-place\n",
    "            processed_sub_data.append(group_sub_df)\n",
    "        \n",
    "        group_df = pd.concat(processed_sub_data)  # Recombine processed subgroup dataframes\n",
    "\n",
    "    processed_data.append(group_df)\n",
    "\n",
    "df_final = pd.concat(processed_data)"
   ]
  },
  {
   "cell_type": "code",
   "execution_count": null,
   "id": "1c2fbb0c-c935-484f-a2a5-5174143a6080",
   "metadata": {},
   "outputs": [],
   "source": [
    "df_final_test = df_final.drop(columns = 'embedding')\n",
    "\n",
    "path = '/data/test.parquet'\n",
    "df_final_test.to_parquet(path)"
   ]
  },
  {
   "cell_type": "markdown",
   "id": "3c036394-aa1d-4436-924f-98673fcd4f38",
   "metadata": {},
   "source": [
    "### Merge df_final with df_first_result"
   ]
  },
  {
   "cell_type": "code",
   "execution_count": null,
   "id": "439265af-ec27-4549-b624-07a5e2a2fbe5",
   "metadata": {},
   "outputs": [],
   "source": [
    "df_first_result = df_first_result.reindex(columns=df_final.columns)\n",
    "combined_df = pd.concat([df_first_result, df_final], ignore_index=True)"
   ]
  },
  {
   "cell_type": "markdown",
   "id": "11d9aab8",
   "metadata": {},
   "source": [
    "### Save the **command dictionary**"
   ]
  },
  {
   "cell_type": "code",
   "execution_count": null,
   "id": "ef289b7f-8f5d-461f-b5d0-d60f71951f91",
   "metadata": {
    "scrolled": true
   },
   "outputs": [],
   "source": [
    "combined_df = combined_df.drop(columns = 'embedding')\n",
    "path = '/data/command_dictionary.csv'\n",
    "combined_df.to_csv(path)"
   ]
  }
 ],
 "metadata": {
  "kernelspec": {
   "display_name": "Python 3 (ipykernel)",
   "language": "python",
   "name": "python3"
  },
  "language_info": {
   "codemirror_mode": {
    "name": "ipython",
    "version": 3
   },
   "file_extension": ".py",
   "mimetype": "text/x-python",
   "name": "python",
   "nbconvert_exporter": "python",
   "pygments_lexer": "ipython3",
   "version": "3.12.4"
  }
 },
 "nbformat": 4,
 "nbformat_minor": 5
}
