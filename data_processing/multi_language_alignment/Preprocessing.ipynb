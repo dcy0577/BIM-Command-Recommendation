{
 "cells": [
  {
   "cell_type": "code",
   "execution_count": null,
   "id": "56438281-f742-465e-b484-d9c0caf1a3bd",
   "metadata": {},
   "outputs": [],
   "source": [
    "import os\n",
    "import pandas as pd\n",
    "from tqdm import tqdm\n",
    "from google.cloud import translate_v3 as translate\n",
    "from collections import Counter\n",
    "from google.api_core.exceptions import GoogleAPICallError, RetryError"
   ]
  },
  {
   "cell_type": "markdown",
   "id": "e8fc8f9a",
   "metadata": {},
   "source": [
    "### Read **Actual Modeling Logs**, get the counts of the unique commands"
   ]
  },
  {
   "cell_type": "code",
   "execution_count": null,
   "id": "07c19baf",
   "metadata": {},
   "outputs": [],
   "source": [
    "actual_modeling_logs_df = pd.read_parquet('data/actual_modeling_Logs.parquet')\n",
    "message_list = actual_modeling_logs_df['message'].to_list\n",
    "counts = Counter(actual_modeling_logs_df['message'])\n",
    "combined_message_count = pd.DataFrame.from_dict(counts, orient='index', columns=['count'])\n",
    "combined_message_count = combined_message_count.reset_index().rename(columns={'index': 'message'})\n",
    "combined_message_count = combined_message_count.sort_values(by = 'count', ascending = False)"
   ]
  },
  {
   "cell_type": "markdown",
   "id": "b06639bb-56d5-469e-b483-bf87e10b18d8",
   "metadata": {},
   "source": [
    "### Drop commands less than 10 times"
   ]
  },
  {
   "cell_type": "code",
   "execution_count": null,
   "id": "7a4ea59b-5e34-4b30-a8c0-30d237f596dc",
   "metadata": {},
   "outputs": [
    {
     "name": "stdout",
     "output_type": "stream",
     "text": [
      "                                      count\n",
      "message                                    \n",
      "End Event: Nudge (5)               67182026\n",
      "End Event: Drag (75)               43121714\n",
      "Tool: Reshape (-214)               29945982\n",
      "End Event: Delete (58)             29943412\n",
      "End Event: Shape Pane Edit (89)    21692112\n",
      "...                                     ...\n",
      "Menu: ExportArtlantis -  (69) (0)         1\n",
      "Menu: Document Windows - 5EC6225E         1\n",
      "Menu: Document Windows - 5EC8F21E         1\n",
      "Menu: ExportArtlantis -  (49) (0)         1\n",
      "Menu: Document Windows - 5691523F         1\n",
      "\n",
      "[67768 rows x 1 columns]\n"
     ]
    }
   ],
   "source": [
    "# Duplicate datasets discarded to obtain unique commands and count the number of times each command occurs\n",
    "print(combined_message_count)"
   ]
  },
  {
   "cell_type": "code",
   "execution_count": null,
   "id": "fd592747-d39c-45cc-90fb-9fd137f57b2b",
   "metadata": {},
   "outputs": [
    {
     "name": "stdout",
     "output_type": "stream",
     "text": [
      "                                                 message     count\n",
      "0                                   End Event: Nudge (5)  67182026\n",
      "1                                   End Event: Drag (75)  43121714\n",
      "2                                   Tool: Reshape (-214)  29945982\n",
      "3                                 End Event: Delete (58)  29943412\n",
      "4                        End Event: Shape Pane Edit (89)  21692112\n",
      "...                                                  ...       ...\n",
      "21107  Menu: CExtMenuDatabase - Externe Datenquelle a...        11\n",
      "21108  Menu: XG GroupWithConnectedFittings Menu -  (3...        11\n",
      "21109                  Menu: Document Windows - 98EE76C9        11\n",
      "21110  End Event: Material „Stahl 11, gewellt“ wird i...        11\n",
      "21111                  End Event: Rename Symbol Def (-1)        11\n",
      "\n",
      "[21112 rows x 2 columns]\n"
     ]
    }
   ],
   "source": [
    "# Drop the commands which occurs less than 10 times\n",
    "df_unique_commands = combined_message_count[combined_message_count['count'] > 10]   \n",
    "print(df_unique_commands)"
   ]
  },
  {
   "cell_type": "markdown",
   "id": "2736e3e3-2c41-4110-b935-7101d1bf10e9",
   "metadata": {},
   "source": [
    "### Extract commands' IDs, Categories."
   ]
  },
  {
   "cell_type": "code",
   "execution_count": 31,
   "id": "0e42fb7b-1018-477e-8f0e-f8936fbbdfec",
   "metadata": {},
   "outputs": [],
   "source": [
    "import re\n",
    "def extract_loc_id(df):\n",
    "    #ids of the message\n",
    "    ids = []\n",
    "    for index, row in df.iterrows():\n",
    "        message = row['message']\n",
    "        ids.append(id)\n",
    "    df['id'] = ids\n",
    "    # convert id to string\n",
    "    df['id'] = df['id'].apply(lambda x: ','.join(map(str, x)))\n",
    "    return df\n",
    "def extract_cat(df):\n",
    "    # Vectorized extraction of categories\n",
    "    df['cat'] = df['message'].str.extract(r'^(.*?):')\n",
    "    return df"
   ]
  },
  {
   "cell_type": "code",
   "execution_count": 32,
   "id": "510a58a3-bc73-4879-82ba-0eadacea8677",
   "metadata": {},
   "outputs": [
    {
     "name": "stdout",
     "output_type": "stream",
     "text": [
      "                                                 message     count     id  \\\n",
      "0                                   End Event: Nudge (5)  67182026      5   \n",
      "1                                   End Event: Drag (75)  43121714     75   \n",
      "2                                   Tool: Reshape (-214)  29945982   -214   \n",
      "3                                 End Event: Delete (58)  29943412     58   \n",
      "4                        End Event: Shape Pane Edit (89)  21692112     89   \n",
      "...                                                  ...       ...    ...   \n",
      "21107  Menu: CExtMenuDatabase - Externe Datenquelle a...        11   47,4   \n",
      "21108  Menu: XG GroupWithConnectedFittings Menu -  (3...        11  345,0   \n",
      "21109                  Menu: Document Windows - 98EE76C9        11          \n",
      "21110  End Event: Material „Stahl 11, gewellt“ wird i...        11    166   \n",
      "21111                  End Event: Rename Symbol Def (-1)        11     -1   \n",
      "\n",
      "             cat  \n",
      "0      End Event  \n",
      "1      End Event  \n",
      "2           Tool  \n",
      "3      End Event  \n",
      "4      End Event  \n",
      "...          ...  \n",
      "21107       Menu  \n",
      "21108       Menu  \n",
      "21109       Menu  \n",
      "21110  End Event  \n",
      "21111  End Event  \n",
      "\n",
      "[21112 rows x 4 columns]\n"
     ]
    }
   ],
   "source": [
    "df_unique_commands = extract_loc_id(df_unique_commands)\n",
    "df_unique_commands = extract_cat(df_unique_commands)\n",
    "print(df_unique_commands)"
   ]
  },
  {
   "cell_type": "markdown",
   "id": "d4ee26d5-ae04-4e5f-b183-cdc24f6b2c04",
   "metadata": {},
   "source": [
    "### Remove the commands with id ' ' (Meaningless commands)"
   ]
  },
  {
   "cell_type": "code",
   "execution_count": 41,
   "id": "60ac9fb6-b269-4272-a6e7-5048daaed790",
   "metadata": {},
   "outputs": [
    {
     "name": "stdout",
     "output_type": "stream",
     "text": [
      "                                                 message     count     id  \\\n",
      "0                                   End Event: Nudge (5)  67182026      5   \n",
      "1                                   End Event: Drag (75)  43121714     75   \n",
      "2                                   Tool: Reshape (-214)  29945982   -214   \n",
      "3                                 End Event: Delete (58)  29943412     58   \n",
      "4                        End Event: Shape Pane Edit (89)  21692112     89   \n",
      "...                                                  ...       ...    ...   \n",
      "21106                Menu: WorkspacesDialog -  (202) (0)        11  202,0   \n",
      "21107  Menu: CExtMenuDatabase - Externe Datenquelle a...        11   47,4   \n",
      "21108  Menu: XG GroupWithConnectedFittings Menu -  (3...        11  345,0   \n",
      "21110  End Event: Material „Stahl 11, gewellt“ wird i...        11    166   \n",
      "21111                  End Event: Rename Symbol Def (-1)        11     -1   \n",
      "\n",
      "             cat  \n",
      "0      End Event  \n",
      "1      End Event  \n",
      "2           Tool  \n",
      "3      End Event  \n",
      "4      End Event  \n",
      "...          ...  \n",
      "21106       Menu  \n",
      "21107       Menu  \n",
      "21108       Menu  \n",
      "21110  End Event  \n",
      "21111  End Event  \n",
      "\n",
      "[20047 rows x 4 columns]\n"
     ]
    }
   ],
   "source": [
    "mask = df_unique_commands['id'] == ''\n",
    "df_commands = df_unique_commands[~mask]\n",
    "print(df_commands)"
   ]
  },
  {
   "cell_type": "markdown",
   "id": "8fb9185e-1be0-4b28-92b3-bf39c4e1ba74",
   "metadata": {},
   "source": [
    "### Translate commands to English and detect language using google API|"
   ]
  },
  {
   "cell_type": "code",
   "execution_count": 34,
   "id": "7aeae3cd-7263-423c-9b4c-1660aa06e875",
   "metadata": {},
   "outputs": [],
   "source": [
    "def translate_detect_text(commands, target_language='en'):\n",
    "    project_id = 'project_id'\n",
    "    location = 'global'\n",
    "    client = translate.TranslationServiceClient()\n",
    "    parent = f\"projects/{project_id}/locations/{location}\"\n",
    "\n",
    "    translated_commands = []\n",
    "    language_results = []\n",
    "\n",
    "    for command in tqdm(commands, desc=\"Translating and detecting\"):\n",
    "        try:\n",
    "            # Client for translation\n",
    "            response_translation = client.translate_text(\n",
    "                contents=[command],\n",
    "                target_language_code=target_language,\n",
    "                parent=parent\n",
    "            )\n",
    "\n",
    "            # Client for language detection\n",
    "            response_detection = client.detect_language(\n",
    "                content=command,\n",
    "                parent=parent\n",
    "            )\n",
    "            \n",
    "            # Get the translated language\n",
    "            translated_text = response_translation.translations[0].translated_text\n",
    "            translated_commands.append(translated_text)\n",
    "            \n",
    "            # Best guess of the languages detected\n",
    "            detections = response_detection.languages\n",
    "            if detections:\n",
    "                best_guess_language = detections[0].language_code\n",
    "                confidence = detections[0].confidence\n",
    "            else:\n",
    "                best_guess_language = 'undetermined'\n",
    "                confidence = 0.0\n",
    "\n",
    "            language_results.append((best_guess_language, confidence))\n",
    "\n",
    "        except (GoogleAPICallError, RetryError) as e:\n",
    "            print(f\"An error occurred during translation and detection: {e}\")\n",
    "            translated_commands.append('Translation Failed')  # Placeholder for failed translations\n",
    "            language_results.append((command, 'undetermined', 0.0))\n",
    "\n",
    "    return translated_commands, language_results"
   ]
  },
  {
   "cell_type": "code",
   "execution_count": 35,
   "id": "e6cae501-0594-4111-abf3-5e99b5536b06",
   "metadata": {},
   "outputs": [],
   "source": [
    "# Access Google Cloud service account key file \n",
    "os.environ['GOOGLE_APPLICATION_CREDENTIALS'] = 'Google Cloud service accound key file.json'"
   ]
  },
  {
   "cell_type": "code",
   "execution_count": 36,
   "id": "b0fc542e-d381-4f4a-a88a-0fe0d99a413a",
   "metadata": {},
   "outputs": [],
   "source": [
    "commands_list = df_commands.message.to_list()"
   ]
  },
  {
   "cell_type": "code",
   "execution_count": 9,
   "id": "10302307-c796-4014-a8c3-1ac83b94047b",
   "metadata": {
    "scrolled": true
   },
   "outputs": [
    {
     "name": "stderr",
     "output_type": "stream",
     "text": [
      "Translating and detecting: 100%|██████████| 20047/20047 [54:00<00:00,  6.19it/s]\n"
     ]
    }
   ],
   "source": [
    "translated_commands, language_detection_results = translate_detect_text(commands_list)"
   ]
  },
  {
   "cell_type": "code",
   "execution_count": null,
   "id": "429faf56-c90d-4480-89af-e40b493cad28",
   "metadata": {},
   "outputs": [],
   "source": [
    "language_df = pd.DataFrame(language_detection_results, columns=['message_language', 'language_confidence'])\n",
    "message_language = language_df['message_language'].to_list()\n",
    "language_confidence = language_df['language_confidence'].to_list()\n",
    "\n",
    "df_commands['translated_message'] = translated_commands\n",
    "df_commands['message_language'] = message_language\n",
    "df_commands['language_confidence'] = language_confidence"
   ]
  },
  {
   "cell_type": "markdown",
   "id": "413c3985",
   "metadata": {},
   "source": [
    "### Save the translated commands"
   ]
  },
  {
   "cell_type": "code",
   "execution_count": null,
   "id": "e8a42744-ed93-4c64-8c5a-38b99e56f86e",
   "metadata": {},
   "outputs": [],
   "source": [
    "path = '/data/preprocessed_language_dic.parquet'\n",
    "df_commands.to_parquet(path)"
   ]
  }
 ],
 "metadata": {
  "kernelspec": {
   "display_name": "Python 3 (ipykernel)",
   "language": "python",
   "name": "python3"
  },
  "language_info": {
   "codemirror_mode": {
    "name": "ipython",
    "version": 3
   },
   "file_extension": ".py",
   "mimetype": "text/x-python",
   "name": "python",
   "nbconvert_exporter": "python",
   "pygments_lexer": "ipython3",
   "version": "3.12.4"
  }
 },
 "nbformat": 4,
 "nbformat_minor": 5
}
